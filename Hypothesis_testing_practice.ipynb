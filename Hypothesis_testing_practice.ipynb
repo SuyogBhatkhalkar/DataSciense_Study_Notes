{
  "nbformat": 4,
  "nbformat_minor": 0,
  "metadata": {
    "colab": {
      "name": "Hypothesis_testing_practice.ipynb",
      "provenance": [],
      "collapsed_sections": [],
      "toc_visible": true,
      "authorship_tag": "ABX9TyNg8jIZ4Wr1AAFUhf3S1XC+",
      "include_colab_link": true
    },
    "kernelspec": {
      "name": "python3",
      "display_name": "Python 3"
    },
    "language_info": {
      "name": "python"
    }
  },
  "cells": [
    {
      "cell_type": "markdown",
      "metadata": {
        "id": "view-in-github",
        "colab_type": "text"
      },
      "source": [
        "<a href=\"https://colab.research.google.com/github/SuyogBhatkhalkar/DataSciense_Study_Notes/blob/main/Hypothesis_testing_practice.ipynb\" target=\"_parent\"><img src=\"https://colab.research.google.com/assets/colab-badge.svg\" alt=\"Open In Colab\"/></a>"
      ]
    },
    {
      "cell_type": "markdown",
      "source": [
        ""
      ],
      "metadata": {
        "id": "EYyXvcWnI-vs"
      }
    },
    {
      "cell_type": "markdown",
      "source": [
        "This notebook is collection of the hyptheses testing methods: \n",
        "  \n",
        "  1. Z test : Testing with two sample, comapring mean of two propotions\n",
        "  2. Z Test : Testing with one sample : One tailed test and two tail test\n",
        "  3. T test : One sample one tail test\n",
        "  4. T test : two tail test\n",
        "  5. Chi Square Test: Goodness of Fit\n",
        "  6. Chi Square Test : Test of independnce \n",
        "  7. Chi Sqaure test : Test of sinlge varaince /homogeneity\n",
        "  8. One-way ANOVA:  test of two variances\n",
        "\n",
        "\n",
        "  The smaller the p-value, the stronger the evidence that you should reject the null hypothesis.\n",
        "  A p-value less than 0.05 (typically ≤ 0.05) is statistically significant. It indicates strong evidence against the null hypothesis, as there is less than a 5% probability the null is correct (and the results are random). Therefore, we reject the null hypothesis, and accept the alternative hypothesis.\n",
        "\n",
        "  A p-value higher than 0.05 (> 0.05) is not statistically significant and indicates strong evidence for the null hypothesis. This means we retain the null hypothesis and reject the alternative hypothesis. You should note that you cannot accept the null hypothesis, we can only reject the null or fail to reject it."
      ],
      "metadata": {
        "id": "M1W8klmALhJM"
      }
    },
    {
      "cell_type": "markdown",
      "source": [
        "Z Test : It can be taken when the population variance  is known or sample size is > 30. Z test is simple z score of the population mean.\n",
        "\n",
        "**Two sample propotion Right Tailed  Z test**"
      ],
      "metadata": {
        "id": "IsUQaXk0J5QM"
      }
    },
    {
      "cell_type": "markdown",
      "source": [
        "Example : \n",
        "We want to know if Girls on average score 10 marks more than the boys. We have the information that the standard deviation for girls’ Score is 100 and for boys’ score is 90. Then we collect the data of 20 girls and 20 boys by using random samples and record their marks. Finally, we also set our ⍺ value (significance level) to be 0.05."
      ],
      "metadata": {
        "id": "NQS9-OzqLdno"
      }
    },
    {
      "cell_type": "markdown",
      "source": [
        "**ztest parameters**\n",
        "\n",
        "1) **x1, x2 ** array_like, 1-D or 2-D two independent samples X2, is optional for one sample test.\n",
        "2) **value ** float In the one sample case, value is the mean of x1 under the Null hypothesis. In the two sample case, value is the difference between mean of x1 and mean of x2 under the Null hypothesis. The test statistic is x1_mean - x2_mean - value.\n",
        "3) **alternative** : string\n",
        "The alternative hypothesis, H1, has to be one of the following \n",
        "  1. 'two-sided' : Two tailed test\n",
        "  2. larger : Right Tailed test\n",
        "  3. Smaller : Left tailed test\n",
        "4)** usevar   string **, 'pooled'\n",
        "Currently, only 'pooled' is implemented. If pooled, then the standard deviation of the samples is assumed to be the same. see CompareMeans.ztest_ind for different options.\n",
        "ddof : int\n",
        "5) **ddof : int** Degrees of freedom use in the calculation of the variance of the mean estimate. In the case of comparing means this is one, however it can be adjusted for testing other statistics (proportion, correlation) bold text\n"
      ],
      "metadata": {
        "id": "XVeJIkKx1_N7"
      }
    },
    {
      "cell_type": "code",
      "source": [
        "import numpy as np\n",
        "from scipy import stats\n",
        "from statsmodels.stats import weightstats as stests"
      ],
      "metadata": {
        "id": "tzpcYLc8D-jE",
        "colab": {
          "base_uri": "https://localhost:8080/"
        },
        "outputId": "8f05a486-5e0c-424e-f634-f3636f70f945"
      },
      "execution_count": null,
      "outputs": [
        {
          "output_type": "stream",
          "name": "stderr",
          "text": [
            "/usr/local/lib/python3.7/dist-packages/statsmodels/tools/_testing.py:19: FutureWarning: pandas.util.testing is deprecated. Use the functions in the public API at pandas.testing instead.\n",
            "  import pandas.util.testing as tm\n"
          ]
        }
      ]
    },
    {
      "cell_type": "code",
      "source": [
        "girl_score = [605, 700, 400, 450, 480, 510, 900, 950, 600, 510, 790, 800, 810, 850, 830, 600, 845, 822, 890, 910]\n",
        "boys_score = [500, 510, 520, 400, 300, 600, 700, 800, 900, 870, 880, 856, 890, 910, 940, 850, 700, 720, 740, 760]\n",
        "girls = np.array(girl_score)\n",
        "boys = np.array(boys_score)\n",
        "girls_sigma = np.std(girls)\n",
        "boys_sigma = np.std(boys)\n",
        "means = girls_sigma- boys_sigma\n",
        "ztets , pval = stests.ztest(girl_score,boys_score, value=means,alternative='larger')\n",
        "print(float(pval))\n",
        "\n",
        "if pval < 0.05: \n",
        "  print(\"Reject the null hypothesis\")\n",
        "else : \n",
        "  print(\"Accept the null hypthesis\")"
      ],
      "metadata": {
        "id": "iMUaYBX6DRXl",
        "colab": {
          "base_uri": "https://localhost:8080/"
        },
        "outputId": "9e2b67d7-c85d-43a2-d212-6b1b3619cd4d"
      },
      "execution_count": null,
      "outputs": [
        {
          "output_type": "stream",
          "name": "stdout",
          "text": [
            "0.45715854757429847\n",
            "Accept the null hypthesis\n"
          ]
        }
      ]
    },
    {
      "cell_type": "markdown",
      "source": [
        "**Two Sample Propotaion Two tail test **\n",
        "In above example if we change condition for null hypothesis from less /grater than to not equal , the test will be two tailed test. Where null hypotheisis will be average Girl's  score is equal to boy's score and alternate hypothesis will be girls score is either less or greater than the boys score. \n",
        "\n"
      ],
      "metadata": {
        "id": "IkzKqTOFQ_9T"
      }
    },
    {
      "cell_type": "code",
      "source": [
        "# Below will be change from above example code\n",
        "ztets_2tailed , pval_2tailed = stests.ztest(girl_score,boys_score, value=means,alternative='two-sided')\n",
        "print(float(pval))\n",
        "\n",
        "if pval_2tailed < 0.05: \n",
        "  print(\"Reject the null hypothesis\")\n",
        "else : \n",
        "  print(\"Accept the null hypthesis\")"
      ],
      "metadata": {
        "colab": {
          "base_uri": "https://localhost:8080/"
        },
        "id": "MBGBwGH35VTU",
        "outputId": "c6c2903a-7194-4a0e-c202-9d83756a5638"
      },
      "execution_count": null,
      "outputs": [
        {
          "output_type": "stream",
          "name": "stdout",
          "text": [
            "0.45715854757429847\n",
            "Accept the null hypthesis\n"
          ]
        }
      ]
    },
    {
      "cell_type": "markdown",
      "source": [
        "**One Sample  Left Tailed Z test**"
      ],
      "metadata": {
        "id": "JwyM_fAqpxBo"
      }
    },
    {
      "cell_type": "markdown",
      "source": [
        "1,500 women followed the Atkin’s diet for a month. A random sample of 29 women gained an average of 5.54 pounds. Test the hypothesis that the average weight gain per woman for the month was over 5 pounds. The standard deviation for all women in the group was 7.1. \n"
      ],
      "metadata": {
        "id": "yaBcYr-xFX30"
      }
    },
    {
      "cell_type": "markdown",
      "source": [
        "In above example Null hypothesis is :  Average weight gain per woman is < 5 pounds.\n",
        "Alternative hypotheisis is : Average weight gain per woman is > 5 pounds. \n",
        "This is one sample one tailed test.  As the standard deviation and average of population is know, this is Z test example. \n",
        "As population data is missing from above example, we can not use the built in function to get the Z value, instead we will use z score formula for one sample , one tailed test."
      ],
      "metadata": {
        "id": "wzG2-kq5HXGN"
      }
    },
    {
      "cell_type": "markdown",
      "source": [
        "**One Sample Two tailed Z test**\n",
        "\n",
        "![image.png](data:image/png;base64,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)"
      ],
      "metadata": {
        "id": "rvj2iCUYfkUG"
      }
    },
    {
      "cell_type": "markdown",
      "source": [
        "In One Sample Two tailed test Alternate Hypothesis has less than and greater than properties while null hypothesis is alawys have equal relationship."
      ],
      "metadata": {
        "id": "hjPdoxU-gIpU"
      }
    },
    {
      "cell_type": "code",
      "source": [
        "weight_gained_by_women = [4,3,4,6,7,8.5, 2.3 ,1, 4,6,8.7,3.4, 2.1, 1.0, -2.4, 4, 5.1, -3.2, 7, 3,6,9,3.4, 0, 1.2, 4,5,6.7, 6,7]\n",
        "sample = np.array(weight_gained_by_women)\n",
        "sample_size = len(sample)\n",
        "sample_mean = np.mean(sample,axis=0)\n",
        "population_mean = 5\n",
        "std_Deviation_population = 7.1\n",
        "\n",
        "ztest_score, p_value = stests.ztest(sample,value = sample_mean, alternative='larger')\n",
        "print(ztest_score, p_value)\n",
        "if(p_value <  0.05):\n",
        "  print(\"Reject Null Hypothesis\")\n",
        "else:\n",
        "  print(\"Fail to Reject NUll Hypothesis\")\n",
        "# One Sample Two tailed test \n",
        "\n",
        "ztest_score_2Tailed, p_value_2tailed = stests.ztest(sample,value = sample_mean, alternative='two-sided')\n",
        "print(ztest_score, p_value)\n",
        "if(p_value_2tailed <  0.05):\n",
        "  print(\"Reject Null Hypothesis\")\n",
        "else:\n",
        "  print(\"Fail to Reject NUll Hypothesis\")\n",
        "\n"
      ],
      "metadata": {
        "colab": {
          "base_uri": "https://localhost:8080/"
        },
        "id": "Tr5rgyJnH4EH",
        "outputId": "fe045649-3864-4310-d8cf-a0d248d0736a"
      },
      "execution_count": null,
      "outputs": [
        {
          "output_type": "stream",
          "name": "stdout",
          "text": [
            "0.0 0.5\n",
            "Fail to Reject NUll Hypothesis\n",
            "0.0 0.5\n",
            "Fail to Reject NUll Hypothesis\n"
          ]
        }
      ]
    },
    {
      "cell_type": "markdown",
      "source": [
        "**T Test **\n",
        "When the sample size is less thna 30, T test is useful. T \n",
        "The parametric test called t-test is based on a student’s t statistic. \n",
        "Test assumes below: \n",
        "1. variables are drawn from the normal population. \n",
        "2. The mean of the population in this statistic of t-test has been assumed to be known. \n",
        "3.The distribution, called t-distribution, has a similar shape to that of a normal distribution, i.e. a bell shaped appearance.\n"
      ],
      "metadata": {
        "id": "4xhzRPbKSLg0"
      }
    },
    {
      "cell_type": "markdown",
      "source": [
        "**One Sample T test**\n",
        "\n",
        "scipy.stats.ttest_1samp  : Is used for one sample T test. It accept the parmaters as below: \n",
        "1. array_like Sample observation.\n",
        "2. popmeanfloat or array_like Expected value in null hypothesis. If array_like, then it must have the same shape as a excluding the axis dimension.\n",
        "3. axisint or None, optional Axis along which to compute test; default is 0. If None, compute over the whole array a.\n",
        "4. nan_policy{‘propagate’, ‘raise’, ‘omit’}, optional\n",
        "Defines how to handle when input contains nan. The following options are available (default is ‘propagate’):\n",
        "  a.‘propagate’: returns nan\n",
        "  b.‘raise’: throws an error\n",
        "  c.‘omit’: performs the calculations ignoring nan values\n",
        "5.alternative{‘two-sided’, ‘less’, ‘greater’}, optional\n",
        "Defines the alternative hypothesis. The following options are available (default is ‘two-sided’):\n",
        "a. ‘two-sided’ :  Two tailed\n",
        "b. ‘less’: left tailed\n",
        "c. ‘greater’: right tatiled"
      ],
      "metadata": {
        "id": "ulb-A_2xcJI-"
      }
    },
    {
      "cell_type": "markdown",
      "source": [
        "**Example**\n",
        "Data:Systolic blood pressures of 14 patients are given below:\n",
        "\n",
        "183, 152, 178, 157, 194, 163, 144, 114, 178, 152, 118, 158, 172, 138\n",
        "\n",
        "Test, whether the population mean, is less than 165.\n",
        "\n",
        "Hypothesis\n",
        "H0: There is no significant mean difference in systolic blood pressure. i.e., μ = 165\n",
        "\n",
        "H1: The population mean is less than 165. i.e., μ < 165\n",
        "This one sample left tailed test."
      ],
      "metadata": {
        "id": "Dbgr4ImtmBGM"
      }
    },
    {
      "cell_type": "code",
      "source": [
        "sys_bp=[183, 152, 178, 157, 194, 163, 144, 114, 178, 152, 118, 158, 172, 138]\n",
        "\n",
        "\n",
        "mu=165\n",
        "# as alternative is available from scipy 1.6.0, force colab to use that version\n",
        "\n",
        "!pip install scipy==1.6.0\n",
        "from scipy import stats\n",
        "\n",
        "result = stats.ttest_1samp(sys_bp, mu,  axis=0, nan_policy='propagate', alternative='less')\n",
        "if(result.pvalue < 0.05) : \n",
        "   print(\"Reject Null Hypothesis\")\n",
        "else:\n",
        "  print(\"Fail to Reject NUll Hypothesis\")\n",
        "\n"
      ],
      "metadata": {
        "colab": {
          "base_uri": "https://localhost:8080/"
        },
        "id": "f5SPjvGomSWs",
        "outputId": "fb221f17-f432-4f0c-bd47-e5285ecd7be7"
      },
      "execution_count": null,
      "outputs": [
        {
          "output_type": "stream",
          "name": "stdout",
          "text": [
            "Requirement already satisfied: scipy==1.6.0 in /usr/local/lib/python3.7/dist-packages (1.6.0)\n",
            "Requirement already satisfied: numpy>=1.16.5 in /usr/local/lib/python3.7/dist-packages (from scipy==1.6.0) (1.19.5)\n",
            "Fail to Reject NUll Hypothesis\n"
          ]
        }
      ]
    },
    {
      "cell_type": "markdown",
      "source": [
        "**Two sample Two tailed t-test **\n",
        "Example:\n",
        "Compare the effectiveness of ammonium chloride and urea, on the grain yield of paddy, an experiment was conducted. The results are given below:\n",
        "\n",
        "Ammonium chloride (X1) = 13.4\t10.9\t11.2\t11.8\t14\t15.3\t14.2\t12.6\t17\t16.2\t16.5\t15.7\n",
        "\n",
        "Urea (X2) =\t12\t11.7\t10.7\t11.2\t14.8\t14.4\t13.9\t13.7\t16.9\t16\t15.6\t16\n",
        "\n",
        "H0: The effect of ammonium chloride and urea on grain yield of paddy are equal i.e., μ1 = μ2\n",
        "\n",
        "H1: The effect of ammonium chloride and urea on grain yield of paddy is not equal i.e., μ1 ≠ μ2"
      ],
      "metadata": {
        "id": "DN7Qqk6Ip6xy"
      }
    },
    {
      "cell_type": "markdown",
      "source": [
        "scipy.stats.ttest_ind(a, b, axis=0, equal_var=True, nan_policy='propagate', permutations=None, random_state=None, alternative='two-sided', trim=0) \n",
        "Parameters\n",
        "1. a, b array_like : The arrays must have the same shape, except in the dimension corresponding to axis (the first, by default).\n",
        "2. axisint or None, optional : Axis along which to compute test. If None, compute over the whole arrays, a, and b.\n",
        "3. equal_varbool, optional : If True (default), perform a standard independent 2 sample test that assumes equal population variances [1]. If False, perform Welch’s t-test, which does not assume equal population variance [2].\n",
        "4. nan_policy{‘propagate’, ‘raise’, ‘omit’}, optional : Defines how to handle when input contains nan. The following options are available (default is ‘propagate’):\n",
        "a. ‘propagate’: returns nan\n",
        "b. ‘raise’: throws an error\n",
        "c. ‘omit’: performs the calculations ignoring nan values\n",
        "The ‘omit’ option is not currently available for permutation tests or one-sided asympyotic tests.\n",
        "5. permutationsnon-negative int, np.inf, or None (default), optional\n",
        "If 0 or None (default), use the t-distribution to calculate p-values. Otherwise, permutations is the number of random permutations that will be used to estimate p-values using a permutation test. If permutations equals or exceeds the number of distinct partitions of the pooled data, an exact test is performed instead (i.e. each distinct partition is used exactly once). \n",
        "6. random_state{None, int, numpy.random.Generator,\n",
        "numpy.random.RandomState}, optional : If seed is None (or np.random), the numpy.random.RandomState singleton is used. If seed is an int, a new RandomState instance is used, seeded with seed. If seed is already a Generator or RandomState instance then that instance is used.\n",
        "7. alternative{‘two-sided’, ‘less’, ‘greater’}, optional\n",
        "Defines the alternative hypothesis. The following options are available (default is ‘two-sided’):\n",
        "8. trimfloat, optional :If nonzero, performs a trimmed (Yuen’s) t-test. Defines the fraction of elements to be trimmed from each end of the input samples. If 0 (default), no elements will be trimmed from either side. The number of trimmed elements from each tail is the floor of the trim times the number of elements. Valid range is [0, .5).\n",
        "\n"
      ],
      "metadata": {
        "id": "qcWDYvlirWcn"
      }
    },
    {
      "cell_type": "code",
      "source": [
        "import numpy as np\n",
        "\n",
        "ammmonium = [13.4, 10.9 ,11.2, 11.8, 14, 15.3, 14.2, 12.6, 17, 16.2, 16.5, 15.7 ]\n",
        "Urea = [12, 11.7, 10.7, 11.2, 14.8, 14.4, 13.9, 13.7, 16.9, 16, 15.6, 16]\n",
        "x1 = np.array(ammmonium)\n",
        "x2= np.array(Urea)\n",
        "\n",
        "result = stats.ttest_ind(x1,x2,axis=0, nan_policy='propagate', alternative='two-sided')\n",
        "if(result.pvalue < 0.05) : \n",
        "   print(\"Reject Null Hypothesis\")\n",
        "else:\n",
        "  print(\"Fail to Reject NUll Hypothesis\")\n"
      ],
      "metadata": {
        "colab": {
          "base_uri": "https://localhost:8080/"
        },
        "id": "iLfSw2qQqRZd",
        "outputId": "01e4c66d-8bad-452f-d2cb-9a60df90dbe0"
      },
      "execution_count": null,
      "outputs": [
        {
          "output_type": "stream",
          "name": "stdout",
          "text": [
            "Fail to Reject NUll Hypothesis\n"
          ]
        }
      ]
    },
    {
      "cell_type": "markdown",
      "source": [
        "**Paired t-test**\n",
        "A paired t-test is used when we are interested in the difference between two variables for the same subject. Often the two variables are separated by time.\n"
      ],
      "metadata": {
        "id": "B4eNIZqjsrS-"
      }
    },
    {
      "cell_type": "markdown",
      "source": [
        "**Example**\n",
        "Eleven schoolboys were given a test in Statistics. They were given a Month’s tuition and a second test were held at the end of it. Do the marks give evidence that the students have benefited from the exam coaching?\n",
        "\n",
        "Marks in 1st test: 23 20 19 21 18 20 18 17 23 16 19\n",
        "\n",
        "Marks in 2nd test: 24 19 22 18 20 22 20 20 23 20 18\n",
        "\n",
        "Hypothesis\n",
        "H0: The students have not benefited from the tuition class. i.e., d = 0\n",
        "\n",
        "H1: The students have benefited from the tuition class. i.e., d < 0\n",
        "\n",
        "Where, d = x-y; d is the difference between marks in the first test (say x) and marks in the second test (say y)."
      ],
      "metadata": {
        "id": "VdUT4PD3s5cL"
      }
    },
    {
      "cell_type": "markdown",
      "source": [
        "Python Function: scipy.stats.ttest_rel(a, b, axis=0, nan_policy='propagate', alternative='two-sided')"
      ],
      "metadata": {
        "id": "X7TzWonMtA6s"
      }
    },
    {
      "cell_type": "code",
      "source": [
        "marks_in_first_Test = [23, 20, 19, 21, 18, 20, 18, 17, 23, 16, 19 ]\n",
        "marks_in_second_tets = [24, 19, 22, 18, 20, 22, 20, 20, 23, 20, 18 ]\n",
        "\n",
        "x1 = np.array (marks_in_first_Test)\n",
        "x2= np.array(marks_in_second_tets)\n",
        "\n",
        "result = stats.ttest_rel(x1,x2,axis=0, nan_policy='propagate', alternative='two-sided')\n",
        "if(result.pvalue < 0.05) : \n",
        "   print(\"Reject Null Hypothesis\")\n",
        "else:\n",
        "  print(\"Fail to Reject NUll Hypothesis\")"
      ],
      "metadata": {
        "colab": {
          "base_uri": "https://localhost:8080/"
        },
        "id": "qwUlVBWIt1z4",
        "outputId": "1a44598d-763b-4a00-9261-3bf2cbde798e"
      },
      "execution_count": null,
      "outputs": [
        {
          "output_type": "stream",
          "name": "stdout",
          "text": [
            "Fail to Reject NUll Hypothesis\n"
          ]
        }
      ]
    },
    {
      "cell_type": "markdown",
      "source": [
        "**Chi Square Test: Goodness of Fit**\n",
        "Chi-Square goodness of fit test is a non-parametric test that is used to find out how the observed value of a given phenomena is significantly different from the expected value.  In Chi-Square goodness of fit test, the term goodness of fit is used to compare the observed sample distribution with the expected probability distribution."
      ],
      "metadata": {
        "id": "dTrsCXwuurTc"
      }
    },
    {
      "cell_type": "markdown",
      "source": [
        "A factory manager needs to understand how many products are defective versus how many are produced. The\n",
        "number of expected defects is listed in:\n",
        "\n",
        "![image.png](data:image/png;base64,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)\n",
        "\n",
        "A random sample was taken to determine the actual number of defects. Table 11.6 shows the results of the survey.\n",
        "\n",
        "![image.png](data:image/png;base64,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)"
      ],
      "metadata": {
        "id": "hnzukzV22hH-"
      }
    },
    {
      "cell_type": "markdown",
      "source": [
        "Pyhton Function \n",
        "scipy.stats.chisquare(f_obs, f_exp=None, ddof=0, axis=0)\n",
        "Where:\n",
        "f_obs : Observed frequencies in each category.\n",
        "f_Exp : Expected frequencies in each category. By default the categories are assumed to be equally likely.\n",
        "ddof=  degrees of freedom optional. \n",
        "axis = The axis of the broadcast result of f_obs and f_exp along which to apply the test. If axis is None, all values in f_obs are treated as a single data set. Default is 0."
      ],
      "metadata": {
        "id": "5ecwwctC3uk9"
      }
    },
    {
      "cell_type": "code",
      "source": [
        "expected_defects = [ 5,6,7,8,10]\n",
        "actual_defects = [5,7,8,9,11]\n",
        "f_expected= np.array(expected_defects)\n",
        "f_observed = np.array(actual_defects)\n",
        "chisq, p_val = stats.chisquare(f_obs=f_observed, f_exp=f_expected, ddof=4, axis=0) \n",
        "if (p_val <  0.05):\n",
        "  print(\"Reject Ho Null Hypothesis : At a 5% level of significance, from the sample data, there is not sufficient evidence to conclude that the defective product occurs eqaully in each lot\")\n",
        "else:\n",
        "  print(\"Fail to Reject(Ho) NUll Hypothesis : At a 5% level of significance, from the sample data, there is sufficient evidence to conclude that the defective product occurs eqaully in each lot \")\n",
        "\n"
      ],
      "metadata": {
        "colab": {
          "base_uri": "https://localhost:8080/"
        },
        "id": "vt0loDMF3K2u",
        "outputId": "811b13f8-e143-4c14-f670-e6b8be5ef3a2"
      },
      "execution_count": null,
      "outputs": [
        {
          "output_type": "stream",
          "name": "stdout",
          "text": [
            "Fail to Reject(Ho) NUll Hypothesis : At a 5% level of significance, from the sample data, there is sufficient evidence to conclude that the defective product occurs eqaully in each lot \n"
          ]
        }
      ]
    },
    {
      "cell_type": "markdown",
      "source": [
        "**The Chi-square test of independence**\n",
        "Checks whether two variables are likely to be related or not.\n",
        "1. Data values that are a simple random sample from the population of interest.\n",
        "2. Two categorical or nominal variables.\n",
        "3. For each combination of the levels of the two variables, we need at least five expected values."
      ],
      "metadata": {
        "id": "AqZRGUmNlDft"
      }
    },
    {
      "cell_type": "markdown",
      "source": [
        "For Chi Square test, the data must be present in contigency table. \n",
        "cipy.stats.chi2_contingency(observed, correction=True, lambda_=None)\n",
        "observed:  The contingency table. The table contains the observed frequencies .\n",
        "correction: If True, and the degrees of freedom is 1, apply Yates’ correction for continuity. The effect of the correction is to adjust each observed value by 0.5 towards the corresponding expected value.\n",
        "lambda_float :\n",
        "By default, the statistic computed in this test is Pearson’s chi-squared statistic\n"
      ],
      "metadata": {
        "id": "BvESR-RUlc7h"
      }
    },
    {
      "cell_type": "markdown",
      "source": [
        "Assume that we want to test if there is a statistically significant difference in Genders (M, F) population between Smokers and Non-Smokers.\n",
        "\n",
        "H0: Smoking is independent of geneder. \n",
        "Ha : Smoking is depenedent on geneder. \n"
      ],
      "metadata": {
        "id": "2d_W48yY2zMQ"
      }
    },
    {
      "cell_type": "code",
      "source": [
        "df = pd.DataFrame({'Gender' : ['M', 'M', 'M', 'F', 'F'] * 10,\n",
        "                   'isSmoker' : ['Smoker', 'Smoker', 'Non-Smpoker', 'Non-Smpoker', 'Smoker'] * 10\n",
        "                  })\n",
        "df.head()\n",
        "#create Contigency table from the data frame\n",
        "contigency= pd.crosstab(df['Gender'], df['isSmoker'] )\n",
        "contigency\n",
        "\n",
        "#Apply Chi Square test\n",
        "from scipy.stats import chi2_contingency\n",
        "\n",
        "c, p, dof, expected = chi2_contingency(contigency)\n",
        "print(p)\n",
        "if (p > 0.05):\n",
        "  print ( \"Accept Ho : At 5% significance level, from the sample data it can be stated that smoking is not dependnet on gender\")\n",
        "else: \n",
        " print ( \" Accept Ha: At 5% significance level, from the sample data it can be stated that smoking is  dependnet on gender\")"
      ],
      "metadata": {
        "colab": {
          "base_uri": "https://localhost:8080/",
          "height": 235
        },
        "id": "5rBxmgsq8FcA",
        "outputId": "811c2b8e-1037-4c68-c7c4-2b36fb098fbc"
      },
      "execution_count": null,
      "outputs": [
        {
          "output_type": "error",
          "ename": "NameError",
          "evalue": "ignored",
          "traceback": [
            "\u001b[0;31m---------------------------------------------------------------------------\u001b[0m",
            "\u001b[0;31mNameError\u001b[0m                                 Traceback (most recent call last)",
            "\u001b[0;32m<ipython-input-9-e0d2d2992010>\u001b[0m in \u001b[0;36m<module>\u001b[0;34m()\u001b[0m\n\u001b[0;32m----> 1\u001b[0;31m df = pd.DataFrame({'Gender' : ['M', 'M', 'M', 'F', 'F'] * 10,\n\u001b[0m\u001b[1;32m      2\u001b[0m                    \u001b[0;34m'isSmoker'\u001b[0m \u001b[0;34m:\u001b[0m \u001b[0;34m[\u001b[0m\u001b[0;34m'Smoker'\u001b[0m\u001b[0;34m,\u001b[0m \u001b[0;34m'Smoker'\u001b[0m\u001b[0;34m,\u001b[0m \u001b[0;34m'Non-Smpoker'\u001b[0m\u001b[0;34m,\u001b[0m \u001b[0;34m'Non-Smpoker'\u001b[0m\u001b[0;34m,\u001b[0m \u001b[0;34m'Smoker'\u001b[0m\u001b[0;34m]\u001b[0m \u001b[0;34m*\u001b[0m \u001b[0;36m10\u001b[0m\u001b[0;34m\u001b[0m\u001b[0;34m\u001b[0m\u001b[0m\n\u001b[1;32m      3\u001b[0m                   })\n\u001b[1;32m      4\u001b[0m \u001b[0mdf\u001b[0m\u001b[0;34m.\u001b[0m\u001b[0mhead\u001b[0m\u001b[0;34m(\u001b[0m\u001b[0;34m)\u001b[0m\u001b[0;34m\u001b[0m\u001b[0;34m\u001b[0m\u001b[0m\n\u001b[1;32m      5\u001b[0m \u001b[0;31m#create Contigency table from the data frame\u001b[0m\u001b[0;34m\u001b[0m\u001b[0;34m\u001b[0m\u001b[0;34m\u001b[0m\u001b[0m\n",
            "\u001b[0;31mNameError\u001b[0m: name 'pd' is not defined"
          ]
        }
      ]
    },
    {
      "cell_type": "markdown",
      "source": [
        " **chi-square test of homogeneity**\n",
        "The test is applied to a single categorical variable from two or more different populations. It is used to determine whether frequency counts are distributed identically across different populations.\n",
        "This test assumes: \n",
        "For each population, the sampling method is simple random sampling.\n",
        "The variable under study is categorical.\n",
        "If sample data are displayed in a contingency table (Populations x Category levels), the expected frequency count for each cell of the table is at least 5."
      ],
      "metadata": {
        "id": "gcXPSDUh4zN2"
      }
    },
    {
      "cell_type": "markdown",
      "source": [
        "Do male and female college students have the same distribution of living arrangements? Use a level of\n",
        "significance of 0.05. Suppose that 250 randomly selected male college students and 300 randomly selected\n",
        "female college students were asked about their living \n",
        "![image.png](data:image/png;base64,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)\n"
      ],
      "metadata": {
        "id": "STGnmYc84_To"
      }
    },
    {
      "cell_type": "markdown",
      "source": [
        "Ho:  The distribution of living arrangements for male college students is the same as the distribution of living\n",
        "arrangements for female college students.\n",
        "Ha: The distribution of living arrangements for male college students is not the same as the distribution of living\n",
        "arrangements for female college students.\n",
        "\n",
        "To find the median of a distribution, we can use the percent point function ppf, which is the inverse of the"
      ],
      "metadata": {
        "id": "s7swkaQ87wNv"
      }
    },
    {
      "cell_type": "code",
      "source": [
        "from scipy.stats import chi2_contingency\n",
        "from prettytable import PrettyTable\n",
        "from scipy.stats import chi2\n",
        "#copy the above table\n",
        "t = PrettyTable(['Type', 'Dormitory', 'Apartment','WithParents', 'others'])\n",
        "t.add_row(['Male',72,84,49,45])\n",
        "t.add_row(['Female',91,86,88,35])\n",
        "print(t)\n",
        "\n",
        "table = [[72,84,49,45], [91,86,88,35]]\n",
        "stat,p,dof,expected = chi2_contingency(table)\n",
        "prob = 0.95\n",
        "critical = chi2.ppf(prob, dof)\n",
        "print(critical)\n",
        "if abs(stat) >= critical:\n",
        "    print(stat, dof ,p ,'Reject Ho : At significance level 5% , there is not enough evidence to conclude that living arrangements made by male student are same as female student')\n",
        "else:\n",
        "     print(stat, dof ,p ,'Accept Ho : At significance level 5% , there is  enough evidence to conclude that living arrangements made by male student are same as female student')"
      ],
      "metadata": {
        "colab": {
          "base_uri": "https://localhost:8080/"
        },
        "id": "b5_iRS6L8NLl",
        "outputId": "e3affede-b137-434a-e4ab-de812785a0e2"
      },
      "execution_count": null,
      "outputs": [
        {
          "output_type": "stream",
          "name": "stdout",
          "text": [
            "+--------+-----------+-----------+-------------+--------+\n",
            "|  Type  | Dormitory | Apartment | WithParents | others |\n",
            "+--------+-----------+-----------+-------------+--------+\n",
            "|  Male  |     72    |     84    |      49     |   45   |\n",
            "| Female |     91    |     86    |      88     |   35   |\n",
            "+--------+-----------+-----------+-------------+--------+\n",
            "7.814727903251179\n",
            "10.128696811826693 3 0.017503254828611012 Reject the Null Hypothesis\n"
          ]
        }
      ]
    },
    {
      "cell_type": "markdown",
      "source": [
        "**One-way ANOVA**\n",
        "The purpose of a one-way ANOVA test is to determine the existence of a statistically significant difference among several\n",
        "group means. The test actually uses variances to help determine if the means are equal or not.\n",
        "1. Each population from which a sample is taken is assumed to be normal.\n",
        "2. All samples are randomly selected and independent.\n",
        "3. The populations are assumed to have equal standard deviations (or variances).\n",
        "4. The factor is a categorical variable.\n",
        "5. The response is a numerical variable\n",
        "\n",
        "Ho = μ1 = μ2 = μ3 = . . .μk \n",
        "\n",
        "Ha : At least two of the group means μ1, μ2, μ3, . . . ,μk are not equal. That is, μi≠μ j for some i≠ j ."
      ],
      "metadata": {
        "id": "K6tN7QjXCTmY"
      }
    },
    {
      "cell_type": "markdown",
      "source": [
        "**Example**\n",
        "The New York Choral Society divides male singers up into four categories from highest voices to lowest: Tenor1,\n",
        "Tenor2, Bass1, Bass2. In the table are heights of the men in the Tenor1 and Bass2 groups. One suspects that taller men\n",
        "will have lower voices, and that the variance of height may go up with the lower voices as well. Do we have good\n",
        "evidence that the variance of the heights of singers in each of these two groups (Tenor1 and Bass2) are different?\n",
        "\n",
        "![image.png](data:image/png;base64,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)"
      ],
      "metadata": {
        "id": "peukLliCDIsH"
      }
    },
    {
      "cell_type": "markdown",
      "source": [
        ""
      ],
      "metadata": {
        "id": "p8DwXNLDJnPF"
      }
    },
    {
      "cell_type": "code",
      "source": [
        "import statsmodels.api as sm\n",
        "import statsmodels.stats.multicomp\n",
        "\n",
        "from statsmodels.formula.api import ols\n",
        "from statsmodels.stats.anova import anova_lm\n",
        "import pandas as pd\n",
        "\n",
        "df = pd.DataFrame({'Tenor1' : [69,72 ,71 ,66, 76, 74, 71, 66, 67, 70, 65, 72, 70, 68, 64, 73, 72, 74 ,70, 66, 68, 75, 68, 70],\n",
        "                   'Bass1' : [72, 75, 67, 75, 74, 72, 72, 74, 68, 67, 64, 69, 72, 71, 74, 75, 67, 70, 70, 55, 52, 65, 77, 78] \n",
        "                  })\n",
        "\n",
        "mod = ols('Tenor1 ~ Bass1', data=df).fit()\n",
        "aov_table = sm.stats.anova_lm(mod,type=2)\n",
        "print(aov_table)\n",
        "\n"
      ],
      "metadata": {
        "colab": {
          "base_uri": "https://localhost:8080/"
        },
        "id": "2SY6PhH5C0oS",
        "outputId": "58d4aefa-7c4c-4b45-8024-52baed4cfcba"
      },
      "execution_count": null,
      "outputs": [
        {
          "output_type": "stream",
          "name": "stdout",
          "text": [
            "            df     sum_sq    mean_sq         F    PR(>F)\n",
            "Bass1      1.0    6.52507   6.525070  0.597882  0.447616\n",
            "Residual  22.0  240.09993  10.913633       NaN       NaN\n"
          ]
        }
      ]
    }
  ]
}